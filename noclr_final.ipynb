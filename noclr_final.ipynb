{
 "cells": [
  {
   "cell_type": "code",
   "execution_count": null,
   "metadata": {},
   "outputs": [],
   "source": [
    "###### final version ###"
   ]
  },
  {
   "cell_type": "code",
   "execution_count": 1,
   "metadata": {},
   "outputs": [
    {
     "name": "stderr",
     "output_type": "stream",
     "text": [
      "Using TensorFlow backend.\n"
     ]
    }
   ],
   "source": [
    "from clr_callback import *\n",
    "from keras.optimizers import *"
   ]
  },
  {
   "cell_type": "code",
   "execution_count": 2,
   "metadata": {},
   "outputs": [],
   "source": [
    "from __future__ import print_function\n",
    "import keras\n",
    "from keras.datasets import cifar10\n",
    "from keras.preprocessing.image import ImageDataGenerator\n",
    "from keras.models import Sequential\n",
    "from keras.layers import Dense, Dropout, Activation, Flatten\n",
    "from keras.layers import Conv2D, MaxPooling2D\n",
    "import os\n",
    "import matplotlib.pyplot as plt\n",
    "import numpy as np\n"
   ]
  },
  {
   "cell_type": "code",
   "execution_count": 3,
   "metadata": {},
   "outputs": [],
   "source": [
    "#hyper-parameters\n",
    "batch_size = 100\n",
    "num_classes = 10\n",
    "epochs = 80\n",
    "data_augmentation = True\n",
    "save_dir = os.path.join(os.getcwd(), 'saved_models')\n",
    "model_name = 'keras_cifar10_trained_model.h5'"
   ]
  },
  {
   "cell_type": "code",
   "execution_count": 4,
   "metadata": {},
   "outputs": [
    {
     "name": "stdout",
     "output_type": "stream",
     "text": [
      "x_train shape: (50000, 32, 32, 3)\n",
      "50000 train samples\n",
      "10000 test samples\n"
     ]
    }
   ],
   "source": [
    "# The data, split between train and test sets:\n",
    "(x_train, y_train), (x_test, y_test) = cifar10.load_data()\n",
    "print('x_train shape:', x_train.shape)\n",
    "print(x_train.shape[0], 'train samples')\n",
    "print(x_test.shape[0], 'test samples')"
   ]
  },
  {
   "cell_type": "code",
   "execution_count": 5,
   "metadata": {},
   "outputs": [],
   "source": [
    "# Convert class vectors to binary class matrices.\n",
    "y_train = keras.utils.to_categorical(y_train, num_classes)\n",
    "y_test = keras.utils.to_categorical(y_test, num_classes)\n",
    "\n",
    "#network architecture\n",
    "\n",
    "model = Sequential()\n",
    "model.add(Conv2D(32, (3, 3), padding='same',\n",
    "                 input_shape=x_train.shape[1:]))\n",
    "model.add(Activation('relu'))\n",
    "model.add(Conv2D(32, (3, 3)))\n",
    "model.add(Activation('relu'))\n",
    "model.add(MaxPooling2D(pool_size=(2, 2)))\n",
    "model.add(Dropout(0.25))\n",
    "\n",
    "model.add(Conv2D(64, (3, 3), padding='same'))\n",
    "model.add(Activation('relu'))\n",
    "model.add(Conv2D(64, (3, 3)))\n",
    "model.add(Activation('relu'))\n",
    "model.add(MaxPooling2D(pool_size=(2, 2)))\n",
    "model.add(Dropout(0.25))\n",
    "\n",
    "model.add(Flatten())\n",
    "model.add(Dense(512))\n",
    "model.add(Activation('relu'))\n",
    "model.add(Dropout(0.5))\n",
    "model.add(Dense(num_classes))\n",
    "model.add(Activation('softmax'))"
   ]
  },
  {
   "cell_type": "code",
   "execution_count": 6,
   "metadata": {},
   "outputs": [],
   "source": [
    "#initiate optimizers according to experiment\n",
    "\n",
    "opt = keras.optimizers.rmsprop(lr = 0.001)\n"
   ]
  },
  {
   "cell_type": "code",
   "execution_count": 7,
   "metadata": {
    "scrolled": true
   },
   "outputs": [
    {
     "name": "stdout",
     "output_type": "stream",
     "text": [
      "Epoch 1/80\n",
      "500/500 [==============================] - 20s 41ms/step - loss: 1.8111 - acc: 0.3409 - val_loss: 1.3816 - val_acc: 0.4944\n",
      "Epoch 2/80\n",
      "500/500 [==============================] - 18s 37ms/step - loss: 1.4254 - acc: 0.4897 - val_loss: 1.1759 - val_acc: 0.5825\n",
      "Epoch 3/80\n",
      "500/500 [==============================] - 18s 36ms/step - loss: 1.2511 - acc: 0.5558 - val_loss: 1.1535 - val_acc: 0.5998\n",
      "Epoch 4/80\n",
      "500/500 [==============================] - 18s 36ms/step - loss: 1.1428 - acc: 0.5969 - val_loss: 0.9972 - val_acc: 0.6535\n",
      "Epoch 5/80\n",
      "500/500 [==============================] - 18s 35ms/step - loss: 1.0590 - acc: 0.6282 - val_loss: 0.8588 - val_acc: 0.7001\n",
      "Epoch 6/80\n",
      "500/500 [==============================] - 18s 37ms/step - loss: 0.9932 - acc: 0.6536 - val_loss: 0.8838 - val_acc: 0.6975\n",
      "Epoch 7/80\n",
      "500/500 [==============================] - 18s 36ms/step - loss: 0.9545 - acc: 0.6693 - val_loss: 0.7758 - val_acc: 0.7263\n",
      "Epoch 8/80\n",
      "500/500 [==============================] - 17s 35ms/step - loss: 0.9297 - acc: 0.6784 - val_loss: 0.8205 - val_acc: 0.7119\n",
      "Epoch 9/80\n",
      "500/500 [==============================] - 18s 36ms/step - loss: 0.9082 - acc: 0.6851 - val_loss: 0.8748 - val_acc: 0.7033\n",
      "Epoch 10/80\n",
      "500/500 [==============================] - 18s 36ms/step - loss: 0.8901 - acc: 0.6946 - val_loss: 0.8161 - val_acc: 0.7288\n",
      "Epoch 11/80\n",
      "500/500 [==============================] - 17s 35ms/step - loss: 0.8864 - acc: 0.6982 - val_loss: 0.8132 - val_acc: 0.7261\n",
      "Epoch 12/80\n",
      "500/500 [==============================] - 17s 34ms/step - loss: 0.8768 - acc: 0.7004 - val_loss: 0.8840 - val_acc: 0.7088\n",
      "Epoch 13/80\n",
      "500/500 [==============================] - 18s 37ms/step - loss: 0.8659 - acc: 0.7056 - val_loss: 0.7647 - val_acc: 0.7453\n",
      "Epoch 14/80\n",
      "500/500 [==============================] - 18s 35ms/step - loss: 0.8679 - acc: 0.7050 - val_loss: 0.7311 - val_acc: 0.7567\n",
      "Epoch 15/80\n",
      "500/500 [==============================] - 17s 35ms/step - loss: 0.8659 - acc: 0.7085 - val_loss: 0.7300 - val_acc: 0.7583\n",
      "Epoch 16/80\n",
      "500/500 [==============================] - 18s 36ms/step - loss: 0.8663 - acc: 0.7102 - val_loss: 0.8424 - val_acc: 0.7323\n",
      "Epoch 17/80\n",
      "500/500 [==============================] - 18s 36ms/step - loss: 0.8679 - acc: 0.7079 - val_loss: 0.8457 - val_acc: 0.7201\n",
      "Epoch 18/80\n",
      "500/500 [==============================] - 17s 35ms/step - loss: 0.8613 - acc: 0.7113 - val_loss: 0.7807 - val_acc: 0.7398\n",
      "Epoch 19/80\n",
      "500/500 [==============================] - 18s 36ms/step - loss: 0.8607 - acc: 0.7127 - val_loss: 0.7788 - val_acc: 0.7442\n",
      "Epoch 20/80\n",
      "500/500 [==============================] - 18s 36ms/step - loss: 0.8663 - acc: 0.7135 - val_loss: 0.8029 - val_acc: 0.7386\n",
      "Epoch 21/80\n",
      "500/500 [==============================] - 18s 35ms/step - loss: 0.8714 - acc: 0.7099 - val_loss: 0.7963 - val_acc: 0.7385\n",
      "Epoch 22/80\n",
      "500/500 [==============================] - 18s 35ms/step - loss: 0.8700 - acc: 0.7086 - val_loss: 0.7686 - val_acc: 0.7491\n",
      "Epoch 23/80\n",
      "500/500 [==============================] - 18s 37ms/step - loss: 0.8773 - acc: 0.7082 - val_loss: 0.8233 - val_acc: 0.7421\n",
      "Epoch 24/80\n",
      "500/500 [==============================] - 18s 36ms/step - loss: 0.8741 - acc: 0.7101 - val_loss: 0.9198 - val_acc: 0.7195\n",
      "Epoch 25/80\n",
      "500/500 [==============================] - 18s 35ms/step - loss: 0.8843 - acc: 0.7075 - val_loss: 0.7687 - val_acc: 0.7464\n",
      "Epoch 26/80\n",
      "500/500 [==============================] - 18s 36ms/step - loss: 0.8944 - acc: 0.7036 - val_loss: 0.7532 - val_acc: 0.7529\n",
      "Epoch 27/80\n",
      "500/500 [==============================] - 18s 36ms/step - loss: 0.8907 - acc: 0.7068 - val_loss: 0.8068 - val_acc: 0.7448\n",
      "Epoch 28/80\n",
      "500/500 [==============================] - 17s 35ms/step - loss: 0.9079 - acc: 0.7011 - val_loss: 0.8265 - val_acc: 0.7263\n",
      "Epoch 29/80\n",
      "500/500 [==============================] - 18s 36ms/step - loss: 0.9064 - acc: 0.7001 - val_loss: 0.7580 - val_acc: 0.7569\n",
      "Epoch 30/80\n",
      "500/500 [==============================] - 18s 36ms/step - loss: 0.9184 - acc: 0.6963 - val_loss: 0.8856 - val_acc: 0.7079\n",
      "Epoch 31/80\n",
      "500/500 [==============================] - 18s 35ms/step - loss: 0.9283 - acc: 0.6970 - val_loss: 0.7564 - val_acc: 0.7580\n",
      "Epoch 32/80\n",
      "500/500 [==============================] - 18s 35ms/step - loss: 0.9224 - acc: 0.6976 - val_loss: 0.7404 - val_acc: 0.7540\n",
      "Epoch 33/80\n",
      "500/500 [==============================] - 18s 37ms/step - loss: 0.9294 - acc: 0.6926 - val_loss: 0.7212 - val_acc: 0.7715\n",
      "Epoch 34/80\n",
      "500/500 [==============================] - 18s 36ms/step - loss: 0.9353 - acc: 0.6928 - val_loss: 0.7211 - val_acc: 0.7637\n",
      "Epoch 35/80\n",
      "500/500 [==============================] - 17s 35ms/step - loss: 0.9545 - acc: 0.6892 - val_loss: 0.7816 - val_acc: 0.7403\n",
      "Epoch 36/80\n",
      "500/500 [==============================] - 19s 38ms/step - loss: 0.9541 - acc: 0.6905 - val_loss: 0.9826 - val_acc: 0.6718\n",
      "Epoch 37/80\n",
      "500/500 [==============================] - 18s 36ms/step - loss: 0.9614 - acc: 0.6871 - val_loss: 0.7776 - val_acc: 0.7538\n",
      "Epoch 38/80\n",
      "500/500 [==============================] - 17s 35ms/step - loss: 0.9715 - acc: 0.6843 - val_loss: 1.0642 - val_acc: 0.7042\n",
      "Epoch 39/80\n",
      "500/500 [==============================] - 18s 37ms/step - loss: 0.9820 - acc: 0.6782 - val_loss: 0.8286 - val_acc: 0.7472\n",
      "Epoch 40/80\n",
      "500/500 [==============================] - 18s 36ms/step - loss: 0.9729 - acc: 0.6840 - val_loss: 0.8419 - val_acc: 0.7330\n",
      "Epoch 41/80\n",
      "500/500 [==============================] - 17s 35ms/step - loss: 0.9885 - acc: 0.6785 - val_loss: 0.9988 - val_acc: 0.6806\n",
      "Epoch 42/80\n",
      "500/500 [==============================] - 18s 36ms/step - loss: 0.9991 - acc: 0.6755 - val_loss: 0.7711 - val_acc: 0.7510\n",
      "Epoch 43/80\n",
      "500/500 [==============================] - 19s 37ms/step - loss: 0.9936 - acc: 0.6781 - val_loss: 0.9666 - val_acc: 0.7226\n",
      "Epoch 44/80\n",
      "500/500 [==============================] - 18s 36ms/step - loss: 0.9995 - acc: 0.6740 - val_loss: 0.8760 - val_acc: 0.7217\n",
      "Epoch 45/80\n",
      "500/500 [==============================] - 18s 35ms/step - loss: 1.0076 - acc: 0.6725 - val_loss: 0.7448 - val_acc: 0.7573\n",
      "Epoch 46/80\n",
      "500/500 [==============================] - 18s 37ms/step - loss: 1.0161 - acc: 0.6722 - val_loss: 0.8516 - val_acc: 0.7203\n",
      "Epoch 47/80\n",
      "500/500 [==============================] - 18s 36ms/step - loss: 1.0214 - acc: 0.6685 - val_loss: 0.9373 - val_acc: 0.6977\n",
      "Epoch 48/80\n",
      "500/500 [==============================] - 18s 35ms/step - loss: 1.0313 - acc: 0.6660 - val_loss: 0.9483 - val_acc: 0.7037\n",
      "Epoch 49/80\n",
      "500/500 [==============================] - 18s 36ms/step - loss: 1.0382 - acc: 0.6636 - val_loss: 0.9196 - val_acc: 0.6841\n",
      "Epoch 50/80\n",
      "500/500 [==============================] - 18s 36ms/step - loss: 1.0549 - acc: 0.6597 - val_loss: 0.9088 - val_acc: 0.7243\n",
      "Epoch 51/80\n",
      "500/500 [==============================] - 18s 36ms/step - loss: 1.0662 - acc: 0.6558 - val_loss: 0.9676 - val_acc: 0.7012\n",
      "Epoch 52/80\n",
      "500/500 [==============================] - 18s 36ms/step - loss: 1.0606 - acc: 0.6557 - val_loss: 1.1621 - val_acc: 0.6740\n",
      "Epoch 53/80\n",
      "500/500 [==============================] - 18s 37ms/step - loss: 1.0697 - acc: 0.6540 - val_loss: 0.9684 - val_acc: 0.6878\n",
      "Epoch 54/80\n",
      "500/500 [==============================] - 18s 36ms/step - loss: 1.0703 - acc: 0.6519 - val_loss: 1.0211 - val_acc: 0.6946\n",
      "Epoch 55/80\n",
      "500/500 [==============================] - 18s 35ms/step - loss: 1.0708 - acc: 0.6528 - val_loss: 0.7916 - val_acc: 0.7368\n",
      "Epoch 56/80\n",
      "500/500 [==============================] - 18s 37ms/step - loss: 1.0780 - acc: 0.6493 - val_loss: 1.0024 - val_acc: 0.6838\n",
      "Epoch 57/80\n",
      "500/500 [==============================] - 18s 36ms/step - loss: 1.0841 - acc: 0.6489 - val_loss: 0.9134 - val_acc: 0.6950\n",
      "Epoch 58/80\n",
      "500/500 [==============================] - 17s 35ms/step - loss: 1.0970 - acc: 0.6450 - val_loss: 0.9418 - val_acc: 0.6850\n",
      "Epoch 59/80\n",
      "500/500 [==============================] - 18s 36ms/step - loss: 1.0900 - acc: 0.6467 - val_loss: 0.9062 - val_acc: 0.6989\n",
      "Epoch 60/80\n",
      "500/500 [==============================] - 18s 36ms/step - loss: 1.1038 - acc: 0.6461 - val_loss: 0.8165 - val_acc: 0.7306\n",
      "Epoch 61/80\n",
      "500/500 [==============================] - 18s 35ms/step - loss: 1.1072 - acc: 0.6395 - val_loss: 0.9800 - val_acc: 0.6830\n"
     ]
    },
    {
     "name": "stdout",
     "output_type": "stream",
     "text": [
      "Epoch 62/80\n",
      "500/500 [==============================] - 18s 35ms/step - loss: 1.1146 - acc: 0.6402 - val_loss: 0.9476 - val_acc: 0.6869\n",
      "Epoch 63/80\n",
      "500/500 [==============================] - 18s 37ms/step - loss: 1.1191 - acc: 0.6384 - val_loss: 1.3059 - val_acc: 0.6418\n",
      "Epoch 64/80\n",
      "500/500 [==============================] - 18s 36ms/step - loss: 1.1285 - acc: 0.6358 - val_loss: 0.9312 - val_acc: 0.6942\n",
      "Epoch 65/80\n",
      "500/500 [==============================] - 17s 35ms/step - loss: 1.1121 - acc: 0.6418 - val_loss: 1.0456 - val_acc: 0.6486\n",
      "Epoch 66/80\n",
      "500/500 [==============================] - 18s 36ms/step - loss: 1.1288 - acc: 0.6348 - val_loss: 0.8527 - val_acc: 0.7198\n",
      "Epoch 67/80\n",
      "500/500 [==============================] - 18s 36ms/step - loss: 1.1299 - acc: 0.6322 - val_loss: 0.9334 - val_acc: 0.6835\n",
      "Epoch 68/80\n",
      "500/500 [==============================] - 17s 35ms/step - loss: 1.1368 - acc: 0.6327 - val_loss: 0.8265 - val_acc: 0.7225\n",
      "Epoch 69/80\n",
      "500/500 [==============================] - 18s 35ms/step - loss: 1.1372 - acc: 0.6340 - val_loss: 0.8918 - val_acc: 0.7109\n",
      "Epoch 70/80\n",
      "500/500 [==============================] - 18s 36ms/step - loss: 1.1347 - acc: 0.6335 - val_loss: 0.9662 - val_acc: 0.6783\n",
      "Epoch 71/80\n",
      "500/500 [==============================] - 18s 35ms/step - loss: 1.1396 - acc: 0.6295 - val_loss: 0.8459 - val_acc: 0.7115\n",
      "Epoch 72/80\n",
      "500/500 [==============================] - 17s 35ms/step - loss: 1.1496 - acc: 0.6281 - val_loss: 1.1154 - val_acc: 0.6242\n",
      "Epoch 73/80\n",
      "500/500 [==============================] - 18s 36ms/step - loss: 1.1463 - acc: 0.6304 - val_loss: 1.0947 - val_acc: 0.6711\n",
      "Epoch 74/80\n",
      "500/500 [==============================] - 18s 36ms/step - loss: 1.1510 - acc: 0.6241 - val_loss: 1.0640 - val_acc: 0.6249\n",
      "Epoch 75/80\n",
      "500/500 [==============================] - 17s 35ms/step - loss: 1.1578 - acc: 0.6247 - val_loss: 0.8767 - val_acc: 0.7106\n",
      "Epoch 76/80\n",
      "500/500 [==============================] - 18s 36ms/step - loss: 1.1627 - acc: 0.6221 - val_loss: 1.0119 - val_acc: 0.6874\n",
      "Epoch 77/80\n",
      "500/500 [==============================] - 18s 36ms/step - loss: 1.1621 - acc: 0.6240 - val_loss: 0.8580 - val_acc: 0.7175\n",
      "Epoch 78/80\n",
      "500/500 [==============================] - 17s 34ms/step - loss: 1.1745 - acc: 0.6174 - val_loss: 1.2911 - val_acc: 0.6475\n",
      "Epoch 79/80\n",
      "500/500 [==============================] - 18s 37ms/step - loss: 1.1832 - acc: 0.6188 - val_loss: 0.9869 - val_acc: 0.6597\n",
      "Epoch 80/80\n",
      "500/500 [==============================] - 18s 37ms/step - loss: 1.1784 - acc: 0.6205 - val_loss: 0.8448 - val_acc: 0.7256\n"
     ]
    }
   ],
   "source": [
    "# Let's train the model using RMSprop\n",
    "model.compile(loss='categorical_crossentropy',\n",
    "              optimizer=opt,\n",
    "              metrics=['accuracy'])\n",
    "\n",
    "x_train = x_train.astype('float32')\n",
    "x_test = x_test.astype('float32')\n",
    "x_train /= 255\n",
    "x_test /= 255\n",
    "\n",
    "\n",
    "datagen = ImageDataGenerator(\n",
    "        featurewise_center=False,  # set input mean to 0 over the dataset\n",
    "        samplewise_center=False,  # set each sample mean to 0\n",
    "        featurewise_std_normalization=False,  # divide inputs by std of the dataset\n",
    "        samplewise_std_normalization=False,  # divide each input by its std\n",
    "        # randomly shift images horizontally (fraction of total width)\n",
    "        width_shift_range=0.1,\n",
    "        # randomly shift images vertically (fraction of total height)\n",
    "        height_shift_range=0.1,\n",
    "        channel_shift_range=0.,  # set range for random channel shifts\n",
    "        # set mode for filling points outside the input boundaries\n",
    "        fill_mode='nearest',\n",
    "        horizontal_flip=True,  # randomly flip images\n",
    "       )\n",
    "\n",
    "datagen.fit(x_train)\n",
    "\n",
    "# Fit the model on the batches generated by datagen.flow().\n",
    "history = model.fit_generator(datagen.flow(x_train, y_train,\n",
    "                                 batch_size=batch_size),\n",
    "                    epochs=epochs,\n",
    "                    validation_data=(x_test, y_test),\n",
    "                    workers=4)"
   ]
  },
  {
   "cell_type": "code",
   "execution_count": 10,
   "metadata": {},
   "outputs": [
    {
     "data": {
      "image/png": "[encoded data removed]",
      "text/plain": [
       "<Figure size 432x288 with 1 Axes>"
      ]
     },
     "metadata": {
      "needs_background": "light"
     },
     "output_type": "display_data"
    }
   ],
   "source": [
    "plt.plot(history.history['acc'])\n",
    "plt.plot(history.history['val_acc'])\n",
    "plt.title('model accuracy')\n",
    "plt.ylabel('accuracy')\n",
    "plt.xlabel('epoch')\n",
    "plt.legend(['train', 'test'], loc='lower right')\n",
    "plt.show()"
   ]
  },
  {
   "cell_type": "code",
   "execution_count": 9,
   "metadata": {},
   "outputs": [
    {
     "data": {
      "image/png": "[encoded data removed]",
      "text/plain": [
       "<Figure size 432x288 with 1 Axes>"
      ]
     },
     "metadata": {
      "needs_background": "light"
     },
     "output_type": "display_data"
    }
   ],
   "source": [
    "# summarize history for loss\n",
    "plt.plot(history.history['loss'])\n",
    "plt.plot(history.history['val_loss'])\n",
    "plt.title('model loss')\n",
    "plt.ylabel('loss')\n",
    "plt.xlabel('epoch')\n",
    "plt.legend(['train', 'test'], loc='upper left')\n",
    "plt.show()"
   ]
  },
  {
   "cell_type": "code",
   "execution_count": 18,
   "metadata": {},
   "outputs": [],
   "source": [
    "from googlenet import *"
   ]
  },
  {
   "cell_type": "code",
   "execution_count": 21,
   "metadata": {},
   "outputs": [],
   "source": [
    "model1= create_googlenet"
   ]
  },
  {
   "cell_type": "code",
   "execution_count": 16,
   "metadata": {},
   "outputs": [
    {
     "name": "stdout",
     "output_type": "stream",
     "text": [
      "Collecting theano\n",
      "  Downloading https://files.pythonhosted.org/packages/4d/b1/d490d88ab47f01f367f413bd2e47d86acf92c84157c5172c23903798bd70/Theano-1.0.3.tar.gz (2.8MB)\n",
      "Requirement already satisfied: numpy>=1.9.1 in c:\\users\\miteshr\\appdata\\local\\continuum\\anaconda3\\lib\\site-packages (from theano) (1.15.3)\n",
      "Requirement already satisfied: scipy>=0.14 in c:\\users\\miteshr\\appdata\\local\\continuum\\anaconda3\\lib\\site-packages (from theano) (1.1.0)\n",
      "Requirement already satisfied: six>=1.9.0 in c:\\users\\miteshr\\appdata\\local\\continuum\\anaconda3\\lib\\site-packages (from theano) (1.11.0)\n",
      "Building wheels for collected packages: theano\n",
      "  Running setup.py bdist_wheel for theano: started\n",
      "  Running setup.py bdist_wheel for theano: finished with status 'done'\n",
      "  Stored in directory: C:\\Users\\miteshr\\AppData\\Local\\pip\\Cache\\wheels\\10\\82\\05\\9ef5e43bfcf906b4810f85f91b09d6daf7ad213d30179defa9\n",
      "Successfully built theano\n",
      "Installing collected packages: theano\n",
      "Successfully installed theano-1.0.3\n"
     ]
    }
   ],
   "source": [
    "!pip install theano"
   ]
  }
 ],
 "metadata": {
  "kernelspec": {
   "display_name": "Python 3",
   "language": "python",
   "name": "python3"
  },
  "language_info": {
   "codemirror_mode": {
    "name": "ipython",
    "version": 3
   },
   "file_extension": ".py",
   "mimetype": "text/x-python",
   "name": "python",
   "nbconvert_exporter": "python",
   "pygments_lexer": "ipython3",
   "version": "3.6.7"
  }
 },
 "nbformat": 4,
 "nbformat_minor": 2
}
