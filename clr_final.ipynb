{
 "cells": [
  {
   "cell_type": "code",
   "execution_count": null,
   "metadata": {},
   "outputs": [],
   "source": [
    "#####c final version ######"
   ]
  },
  {
   "cell_type": "code",
   "execution_count": 1,
   "metadata": {},
   "outputs": [
    {
     "name": "stderr",
     "output_type": "stream",
     "text": [
      "Using TensorFlow backend.\n"
     ]
    }
   ],
   "source": [
    "from clr_callback import *\n",
    "from keras.optimizers import *"
   ]
  },
  {
   "cell_type": "code",
   "execution_count": 2,
   "metadata": {},
   "outputs": [],
   "source": [
    "from __future__ import print_function\n",
    "import keras\n",
    "from keras.datasets import cifar10\n",
    "from keras.preprocessing.image import ImageDataGenerator\n",
    "from keras.models import Sequential\n",
    "from keras.layers import Dense, Dropout, Activation, Flatten\n",
    "from keras.layers import Conv2D, MaxPooling2D\n",
    "import os\n",
    "import matplotlib.pyplot as plt\n",
    "import numpy as np\n"
   ]
  },
  {
   "cell_type": "code",
   "execution_count": 3,
   "metadata": {},
   "outputs": [],
   "source": [
    "#hyper-parameters\n",
    "batch_size = 100\n",
    "num_classes = 10\n",
    "epochs = 80\n",
    "data_augmentation = True\n",
    "save_dir = os.path.join(os.getcwd(), 'saved_models')\n",
    "model_name = 'keras_cifar10_trained_model.h5'"
   ]
  },
  {
   "cell_type": "code",
   "execution_count": 4,
   "metadata": {},
   "outputs": [
    {
     "name": "stdout",
     "output_type": "stream",
     "text": [
      "x_train shape: (50000, 32, 32, 3)\n",
      "50000 train samples\n",
      "10000 test samples\n"
     ]
    }
   ],
   "source": [
    "# The data, split between train and test sets:\n",
    "(x_train, y_train), (x_test, y_test) = cifar100.load_data()\n",
    "print('x_train shape:', x_train.shape)\n",
    "print(x_train.shape[0], 'train samples')\n",
    "print(x_test.shape[0], 'test samples')"
   ]
  },
  {
   "cell_type": "code",
   "execution_count": 5,
   "metadata": {},
   "outputs": [],
   "source": [
    "# Convert class vectors to binary class matrices.\n",
    "y_train = keras.utils.to_categorical(y_train, num_classes)\n",
    "y_test = keras.utils.to_categorical(y_test, num_classes)\n",
    "\n",
    "#network architecture\n",
    "\n",
    "model = Sequential()\n",
    "model.add(Conv2D(32, (3, 3), padding='same',\n",
    "                 input_shape=x_train.shape[1:]))\n",
    "model.add(Activation('relu'))\n",
    "model.add(Conv2D(32, (3, 3)))\n",
    "model.add(Activation('relu'))\n",
    "model.add(MaxPooling2D(pool_size=(2, 2)))\n",
    "model.add(Dropout(0.25))\n",
    "\n",
    "model.add(Conv2D(64, (3, 3), padding='same'))\n",
    "model.add(Activation('relu'))\n",
    "model.add(Conv2D(64, (3, 3)))\n",
    "model.add(Activation('relu'))\n",
    "model.add(MaxPooling2D(pool_size=(2, 2)))\n",
    "model.add(Dropout(0.25))\n",
    "\n",
    "model.add(Flatten())\n",
    "model.add(Dense(512))\n",
    "model.add(Activation('relu'))\n",
    "model.add(Dropout(0.5))\n",
    "model.add(Dense(num_classes))\n",
    "model.add(Activation('softmax'))"
   ]
  },
  {
   "cell_type": "code",
   "execution_count": 6,
   "metadata": {},
   "outputs": [],
   "source": [
    "#initiate optimizers according to experiment\n",
    "\n",
    "opt = keras.optimizers.rmsprop()\n",
    "\n",
    "clr_triangular = CyclicLR(mode='exp_range', gamma=0.99994)\n"
   ]
  },
  {
   "cell_type": "code",
   "execution_count": 7,
   "metadata": {
    "scrolled": true
   },
   "outputs": [
    {
     "name": "stdout",
     "output_type": "stream",
     "text": [
      "Epoch 1/80\n",
      "500/500 [==============================] - 20s 41ms/step - loss: 1.8445 - acc: 0.3369 - val_loss: 1.3421 - val_acc: 0.5228\n",
      "Epoch 2/80\n",
      "500/500 [==============================] - 19s 38ms/step - loss: 1.5268 - acc: 0.4604 - val_loss: 1.3670 - val_acc: 0.5164\n",
      "Epoch 3/80\n",
      "500/500 [==============================] - 18s 36ms/step - loss: 1.4795 - acc: 0.4847 - val_loss: 1.3576 - val_acc: 0.5441\n",
      "Epoch 4/80\n",
      "500/500 [==============================] - 18s 37ms/step - loss: 1.5271 - acc: 0.4743 - val_loss: 1.4324 - val_acc: 0.5135\n",
      "Epoch 5/80\n",
      "500/500 [==============================] - 18s 36ms/step - loss: 1.5002 - acc: 0.4833 - val_loss: 1.1166 - val_acc: 0.6066\n",
      "Epoch 6/80\n",
      "500/500 [==============================] - 18s 35ms/step - loss: 1.3502 - acc: 0.5329 - val_loss: 1.0479 - val_acc: 0.6373\n",
      "Epoch 7/80\n",
      "500/500 [==============================] - 18s 37ms/step - loss: 1.2333 - acc: 0.5752 - val_loss: 0.9803 - val_acc: 0.6578\n",
      "Epoch 8/80\n",
      "500/500 [==============================] - 19s 38ms/step - loss: 1.1311 - acc: 0.6094 - val_loss: 0.9464 - val_acc: 0.6723\n",
      "Epoch 9/80\n",
      "500/500 [==============================] - 17s 35ms/step - loss: 1.1041 - acc: 0.6218 - val_loss: 1.0024 - val_acc: 0.6611\n",
      "Epoch 10/80\n",
      "500/500 [==============================] - 18s 36ms/step - loss: 1.2041 - acc: 0.5901 - val_loss: 1.0321 - val_acc: 0.6431\n",
      "Epoch 11/80\n",
      "500/500 [==============================] - 20s 40ms/step - loss: 1.3183 - acc: 0.5564 - val_loss: 1.1107 - val_acc: 0.6282\n",
      "Epoch 12/80\n",
      "500/500 [==============================] - 18s 35ms/step - loss: 1.4372 - acc: 0.5171 - val_loss: 1.1488 - val_acc: 0.6082\n",
      "Epoch 13/80\n",
      "500/500 [==============================] - 18s 35ms/step - loss: 1.4423 - acc: 0.5114 - val_loss: 1.2775 - val_acc: 0.5717\n",
      "Epoch 14/80\n",
      "500/500 [==============================] - 19s 37ms/step - loss: 1.3181 - acc: 0.5537 - val_loss: 1.3730 - val_acc: 0.5610\n",
      "Epoch 15/80\n",
      "500/500 [==============================] - 18s 36ms/step - loss: 1.2380 - acc: 0.5769 - val_loss: 1.1865 - val_acc: 0.6177\n",
      "Epoch 16/80\n",
      "500/500 [==============================] - 18s 36ms/step - loss: 1.1543 - acc: 0.6040 - val_loss: 0.9866 - val_acc: 0.6672\n",
      "Epoch 17/80\n",
      "500/500 [==============================] - 18s 37ms/step - loss: 1.1455 - acc: 0.6081 - val_loss: 1.0429 - val_acc: 0.6519\n",
      "Epoch 18/80\n",
      "500/500 [==============================] - 18s 37ms/step - loss: 1.2315 - acc: 0.5829 - val_loss: 1.1250 - val_acc: 0.6123\n",
      "Epoch 19/80\n",
      "500/500 [==============================] - 17s 35ms/step - loss: 1.3356 - acc: 0.5517 - val_loss: 1.0782 - val_acc: 0.6218\n",
      "Epoch 20/80\n",
      "500/500 [==============================] - 19s 39ms/step - loss: 1.4524 - acc: 0.5140 - val_loss: 1.2441 - val_acc: 0.5577\n",
      "Epoch 21/80\n",
      "500/500 [==============================] - 19s 37ms/step - loss: 1.4363 - acc: 0.5119 - val_loss: 1.1627 - val_acc: 0.5919\n",
      "Epoch 22/80\n",
      "500/500 [==============================] - 18s 35ms/step - loss: 1.3482 - acc: 0.5461 - val_loss: 1.1020 - val_acc: 0.6286\n",
      "Epoch 23/80\n",
      "500/500 [==============================] - 18s 36ms/step - loss: 1.2823 - acc: 0.5612 - val_loss: 1.1026 - val_acc: 0.6157\n",
      "Epoch 24/80\n",
      "500/500 [==============================] - 19s 37ms/step - loss: 1.2031 - acc: 0.5886 - val_loss: 1.1014 - val_acc: 0.6044\n",
      "Epoch 25/80\n",
      "500/500 [==============================] - 19s 38ms/step - loss: 1.2018 - acc: 0.5903 - val_loss: 1.1314 - val_acc: 0.6063\n",
      "Epoch 26/80\n",
      "500/500 [==============================] - 18s 36ms/step - loss: 1.2747 - acc: 0.5694 - val_loss: 1.1721 - val_acc: 0.5955\n",
      "Epoch 27/80\n",
      "500/500 [==============================] - 18s 37ms/step - loss: 1.3701 - acc: 0.5409 - val_loss: 1.1049 - val_acc: 0.6156\n",
      "Epoch 28/80\n",
      "500/500 [==============================] - 19s 37ms/step - loss: 1.4908 - acc: 0.5058 - val_loss: 1.2219 - val_acc: 0.5631\n",
      "Epoch 29/80\n",
      "500/500 [==============================] - 17s 35ms/step - loss: 1.4354 - acc: 0.5161 - val_loss: 1.0962 - val_acc: 0.6132\n",
      "Epoch 30/80\n",
      "500/500 [==============================] - 19s 37ms/step - loss: 1.3438 - acc: 0.5444 - val_loss: 1.1394 - val_acc: 0.6043\n",
      "Epoch 31/80\n",
      "500/500 [==============================] - 19s 38ms/step - loss: 1.2848 - acc: 0.5613 - val_loss: 1.1285 - val_acc: 0.6036\n",
      "Epoch 32/80\n",
      "500/500 [==============================] - 17s 35ms/step - loss: 1.2274 - acc: 0.5837 - val_loss: 1.0549 - val_acc: 0.6306\n",
      "Epoch 33/80\n",
      "500/500 [==============================] - 18s 35ms/step - loss: 1.2130 - acc: 0.5856 - val_loss: 1.1233 - val_acc: 0.6186\n",
      "Epoch 34/80\n",
      "500/500 [==============================] - 21s 42ms/step - loss: 1.2808 - acc: 0.5643 - val_loss: 1.2097 - val_acc: 0.5812\n",
      "Epoch 35/80\n",
      "500/500 [==============================] - 18s 37ms/step - loss: 1.3652 - acc: 0.5380 - val_loss: 1.0758 - val_acc: 0.6380\n",
      "Epoch 36/80\n",
      "500/500 [==============================] - 18s 35ms/step - loss: 1.4112 - acc: 0.5262 - val_loss: 1.3293 - val_acc: 0.5432\n",
      "Epoch 37/80\n",
      "500/500 [==============================] - 19s 37ms/step - loss: 1.4059 - acc: 0.5236 - val_loss: 1.1247 - val_acc: 0.6207\n",
      "Epoch 38/80\n",
      "500/500 [==============================] - 19s 37ms/step - loss: 1.3217 - acc: 0.5508 - val_loss: 1.2086 - val_acc: 0.5682\n",
      "Epoch 39/80\n",
      "500/500 [==============================] - 18s 37ms/step - loss: 1.2593 - acc: 0.5693 - val_loss: 1.1921 - val_acc: 0.5838\n",
      "Epoch 40/80\n",
      "500/500 [==============================] - 19s 37ms/step - loss: 1.2150 - acc: 0.5811 - val_loss: 1.1520 - val_acc: 0.5908\n",
      "Epoch 41/80\n",
      "500/500 [==============================] - 19s 38ms/step - loss: 1.2203 - acc: 0.5822 - val_loss: 1.1467 - val_acc: 0.5992\n",
      "Epoch 42/80\n",
      "500/500 [==============================] - 18s 36ms/step - loss: 1.2685 - acc: 0.5695 - val_loss: 1.0937 - val_acc: 0.6284\n",
      "Epoch 43/80\n",
      "500/500 [==============================] - 19s 37ms/step - loss: 1.3101 - acc: 0.5521 - val_loss: 1.0838 - val_acc: 0.6169\n",
      "Epoch 44/80\n",
      "500/500 [==============================] - 19s 37ms/step - loss: 1.3630 - acc: 0.5404 - val_loss: 1.0768 - val_acc: 0.6296\n",
      "Epoch 45/80\n",
      "500/500 [==============================] - 18s 37ms/step - loss: 1.3557 - acc: 0.5367 - val_loss: 1.0985 - val_acc: 0.6118\n",
      "Epoch 46/80\n",
      "500/500 [==============================] - 18s 36ms/step - loss: 1.3050 - acc: 0.5556 - val_loss: 1.1850 - val_acc: 0.5804\n",
      "Epoch 47/80\n",
      "500/500 [==============================] - 18s 37ms/step - loss: 1.2468 - acc: 0.5723 - val_loss: 1.0181 - val_acc: 0.6446\n",
      "Epoch 48/80\n",
      "500/500 [==============================] - 21s 43ms/step - loss: 1.2184 - acc: 0.5804 - val_loss: 1.0570 - val_acc: 0.6467\n",
      "Epoch 49/80\n",
      "500/500 [==============================] - 18s 35ms/step - loss: 1.2086 - acc: 0.5853 - val_loss: 1.0184 - val_acc: 0.6570\n",
      "Epoch 50/80\n",
      "500/500 [==============================] - 18s 37ms/step - loss: 1.2372 - acc: 0.5750 - val_loss: 1.1340 - val_acc: 0.6204\n",
      "Epoch 51/80\n",
      "500/500 [==============================] - 20s 39ms/step - loss: 1.2891 - acc: 0.5614 - val_loss: 1.0101 - val_acc: 0.6528\n",
      "Epoch 52/80\n",
      "500/500 [==============================] - 18s 36ms/step - loss: 1.3329 - acc: 0.5486 - val_loss: 1.1467 - val_acc: 0.5963\n",
      "Epoch 53/80\n",
      "500/500 [==============================] - 18s 37ms/step - loss: 1.3248 - acc: 0.5460 - val_loss: 1.1084 - val_acc: 0.6106\n",
      "Epoch 54/80\n",
      "500/500 [==============================] - 19s 38ms/step - loss: 1.2846 - acc: 0.5620 - val_loss: 1.1797 - val_acc: 0.5876\n",
      "Epoch 55/80\n",
      "500/500 [==============================] - 18s 37ms/step - loss: 1.2494 - acc: 0.5715 - val_loss: 1.0518 - val_acc: 0.6304\n",
      "Epoch 56/80\n",
      "500/500 [==============================] - 18s 36ms/step - loss: 1.2154 - acc: 0.5798 - val_loss: 1.0858 - val_acc: 0.6377\n",
      "Epoch 57/80\n",
      "500/500 [==============================] - 21s 41ms/step - loss: 1.2034 - acc: 0.5858 - val_loss: 1.1965 - val_acc: 0.5851\n",
      "Epoch 58/80\n",
      "500/500 [==============================] - 19s 38ms/step - loss: 1.2498 - acc: 0.5741 - val_loss: 1.2186 - val_acc: 0.5682\n",
      "Epoch 59/80\n",
      "500/500 [==============================] - 18s 36ms/step - loss: 1.2865 - acc: 0.5589 - val_loss: 1.1479 - val_acc: 0.6077\n",
      "Epoch 60/80\n",
      "500/500 [==============================] - 19s 38ms/step - loss: 1.3165 - acc: 0.5514 - val_loss: 1.1341 - val_acc: 0.6099\n",
      "Epoch 61/80\n",
      "500/500 [==============================] - 19s 38ms/step - loss: 1.3062 - acc: 0.5533 - val_loss: 1.1614 - val_acc: 0.6232\n"
     ]
    },
    {
     "name": "stdout",
     "output_type": "stream",
     "text": [
      "Epoch 62/80\n",
      "500/500 [==============================] - 18s 37ms/step - loss: 1.2684 - acc: 0.5635 - val_loss: 1.3418 - val_acc: 0.5322\n",
      "Epoch 63/80\n",
      "500/500 [==============================] - 18s 36ms/step - loss: 1.2299 - acc: 0.5768 - val_loss: 1.0665 - val_acc: 0.6262\n",
      "Epoch 64/80\n",
      "500/500 [==============================] - 19s 38ms/step - loss: 1.2038 - acc: 0.5844 - val_loss: 1.0755 - val_acc: 0.6227\n",
      "Epoch 65/80\n",
      "500/500 [==============================] - 18s 37ms/step - loss: 1.2099 - acc: 0.5864 - val_loss: 1.0414 - val_acc: 0.6427\n",
      "Epoch 66/80\n",
      "500/500 [==============================] - 18s 36ms/step - loss: 1.2407 - acc: 0.5745 - val_loss: 1.1217 - val_acc: 0.6195\n",
      "Epoch 67/80\n",
      "500/500 [==============================] - 18s 37ms/step - loss: 1.2650 - acc: 0.5653 - val_loss: 1.1204 - val_acc: 0.6227\n",
      "Epoch 68/80\n",
      "500/500 [==============================] - 19s 39ms/step - loss: 1.2990 - acc: 0.5556 - val_loss: 1.1907 - val_acc: 0.6076\n",
      "Epoch 69/80\n",
      "500/500 [==============================] - 18s 36ms/step - loss: 1.2966 - acc: 0.5584 - val_loss: 1.1230 - val_acc: 0.6089\n",
      "Epoch 70/80\n",
      "500/500 [==============================] - 18s 37ms/step - loss: 1.2719 - acc: 0.5667 - val_loss: 1.2938 - val_acc: 0.5497\n",
      "Epoch 71/80\n",
      "500/500 [==============================] - 21s 42ms/step - loss: 1.2410 - acc: 0.5748 - val_loss: 1.0072 - val_acc: 0.6531\n",
      "Epoch 72/80\n",
      "500/500 [==============================] - 18s 35ms/step - loss: 1.2032 - acc: 0.5869 - val_loss: 1.0169 - val_acc: 0.6489\n",
      "Epoch 73/80\n",
      "500/500 [==============================] - 18s 35ms/step - loss: 1.2059 - acc: 0.5853 - val_loss: 1.1929 - val_acc: 0.5802\n",
      "Epoch 74/80\n",
      "500/500 [==============================] - 19s 38ms/step - loss: 1.2455 - acc: 0.5769 - val_loss: 1.0485 - val_acc: 0.6427\n",
      "Epoch 75/80\n",
      "500/500 [==============================] - 18s 37ms/step - loss: 1.2665 - acc: 0.5696 - val_loss: 1.0255 - val_acc: 0.6404\n",
      "Epoch 76/80\n",
      "500/500 [==============================] - 18s 36ms/step - loss: 1.2887 - acc: 0.5614 - val_loss: 1.1527 - val_acc: 0.6003\n",
      "Epoch 77/80\n",
      "500/500 [==============================] - 19s 37ms/step - loss: 1.2815 - acc: 0.5651 - val_loss: 1.1427 - val_acc: 0.6201\n",
      "Epoch 78/80\n",
      "500/500 [==============================] - 19s 38ms/step - loss: 1.2574 - acc: 0.5688 - val_loss: 1.0689 - val_acc: 0.6324\n",
      "Epoch 79/80\n",
      "500/500 [==============================] - 18s 36ms/step - loss: 1.2293 - acc: 0.5788 - val_loss: 1.0523 - val_acc: 0.6410\n",
      "Epoch 80/80\n",
      "500/500 [==============================] - 20s 39ms/step - loss: 1.2181 - acc: 0.5819 - val_loss: 1.1764 - val_acc: 0.6054\n"
     ]
    }
   ],
   "source": [
    "# Let's train the model using RMSprop\n",
    "model.compile(loss='categorical_crossentropy',\n",
    "              optimizer=opt,\n",
    "              metrics=['accuracy'])\n",
    "\n",
    "x_train = x_train.astype('float32')\n",
    "x_test = x_test.astype('float32')\n",
    "x_train /= 255\n",
    "x_test /= 255\n",
    "\n",
    "\n",
    "datagen = ImageDataGenerator(\n",
    "        featurewise_center=False,  # set input mean to 0 over the dataset\n",
    "        samplewise_center=False,  # set each sample mean to 0\n",
    "        featurewise_std_normalization=False,  # divide inputs by std of the dataset\n",
    "        samplewise_std_normalization=False,  # divide each input by its std\n",
    "        # randomly shift images horizontally (fraction of total width)\n",
    "        width_shift_range=0.1,\n",
    "        # randomly shift images vertically (fraction of total height)\n",
    "        height_shift_range=0.1,\n",
    "        channel_shift_range=0.,  # set range for random channel shifts\n",
    "        # set mode for filling points outside the input boundaries\n",
    "        fill_mode='nearest',\n",
    "        horizontal_flip=True,  # randomly flip images\n",
    "       )\n",
    "\n",
    "datagen.fit(x_train)\n",
    "\n",
    "# Fit the model on the batches generated by datagen.flow().\n",
    "history = model.fit_generator(datagen.flow(x_train, y_train,\n",
    "                                 batch_size=batch_size),\n",
    "                    epochs=epochs,\n",
    "                    callbacks = [clr_triangular],\n",
    "                    validation_data=(x_test, y_test),\n",
    "                    workers=4)"
   ]
  },
  {
   "cell_type": "code",
   "execution_count": 8,
   "metadata": {},
   "outputs": [
    {
     "data": {
      "text/plain": [
       "[<matplotlib.lines.Line2D at 0x14e389718d0>]"
      ]
     },
     "execution_count": 8,
     "metadata": {},
     "output_type": "execute_result"
    },
    {
     "data": {
      "image/png": "[encoded data removed]",
      "text/plain": [
       "<Figure size 432x288 with 1 Axes>"
      ]
     },
     "metadata": {
      "needs_background": "light"
     },
     "output_type": "display_data"
    }
   ],
   "source": [
    "plt.xlabel('Training Iterations')\n",
    "plt.ylabel('Learning Rate')\n",
    "plt.title(\"CLR - 'exp_range' Policy\")\n",
    "plt.plot(clr_triangular.history['iterations'], clr_triangular.history['lr'])"
   ]
  },
  {
   "cell_type": "code",
   "execution_count": null,
   "metadata": {},
   "outputs": [],
   "source": [
    "plt.plot(history.history['acc'])\n",
    "plt.plot(history.history['val_acc'])\n",
    "plt.title('model accuracy CLR ')\n",
    "plt.ylabel('accuracy')\n",
    "plt.xlabel('epoch')\n",
    "plt.legend(['train', 'test'], loc='lower right')\n",
    "plt.show()"
   ]
  },
  {
   "cell_type": "code",
   "execution_count": 10,
   "metadata": {},
   "outputs": [
    {
     "data": {
      "image/png": "[encoded data removed]",
      "text/plain": [
       "<Figure size 432x288 with 1 Axes>"
      ]
     },
     "metadata": {
      "needs_background": "light"
     },
     "output_type": "display_data"
    }
   ],
   "source": [
    "# summarize history for loss\n",
    "plt.plot(history.history['loss'])\n",
    "plt.plot(history.history['val_loss'])\n",
    "plt.title('model loss')\n",
    "plt.ylabel('loss')\n",
    "plt.xlabel('epoch')\n",
    "plt.legend(['train', 'test'], loc='upper left')\n",
    "plt.show()"
   ]
  }
 ],
 "metadata": {
  "kernelspec": {
   "display_name": "Python 3",
   "language": "python",
   "name": "python3"
  },
  "language_info": {
   "codemirror_mode": {
    "name": "ipython",
    "version": 3
   },
   "file_extension": ".py",
   "mimetype": "text/x-python",
   "name": "python",
   "nbconvert_exporter": "python",
   "pygments_lexer": "ipython3",
   "version": "3.6.7"
  }
 },
 "nbformat": 4,
 "nbformat_minor": 2
}
